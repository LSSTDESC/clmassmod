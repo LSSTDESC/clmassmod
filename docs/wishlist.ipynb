{
 "cells": [
  {
   "cell_type": "markdown",
   "metadata": {},
   "source": [
    "_Camille Avestruz (UChicago)_, _Alex Malz (NYU)_, & Others"
   ]
  },
  {
   "cell_type": "markdown",
   "metadata": {},
   "source": [
    "Our understanding of how folks currently use this code is based on the [Analytic Bias Estimate (ABE)](https://github.com/LSSTDESC/clmassmod/blob/master/notebooks/Analytic_bias_estimate.ipynb) and [Statistical Power Check (SPC)](https://github.com/LSSTDESC/clmassmod/blob/master/notebooks/Statistical%20Power%20Check.ipynb) demos.\n",
    "\n",
    "This is a wishlist for how we'd like to use `clmassmod`.  We will refactor the code to make this notebook run!"
   ]
  },
  {
   "cell_type": "markdown",
   "metadata": {},
   "source": [
    "There was a lot of other stuff here but we think it was more about simulating mock data, not the analysis pipeline we want to work on.  It can be found in commit `a103463`."
   ]
  },
  {
   "cell_type": "code",
   "execution_count": null,
   "metadata": {},
   "outputs": [],
   "source": [
    "import clmassmod as clmm"
   ]
  },
  {
   "cell_type": "markdown",
   "metadata": {},
   "source": [
    "if you want to do this in bins, define them out here however you want and then run the below steps per bin"
   ]
  },
  {
   "cell_type": "markdown",
   "metadata": {},
   "source": [
    "`model_info` would be a dict with the name of the model and its parameters to support comparison of models, read in from a config file by the user/script outside the CLMassMod object."
   ]
  },
  {
   "cell_type": "code",
   "execution_count": null,
   "metadata": {},
   "outputs": [],
   "source": [
    "massmod = clm.CLMassMod(model_info)"
   ]
  },
  {
   "cell_type": "markdown",
   "metadata": {},
   "source": [
    "`in_data` includes mass map and more\n",
    "\n",
    "`calc_params` is like curvefit vs pymc vs whatever\n",
    "\n",
    "`the_fit` is the object produced by the fitter, like the pymc MC object, with properties like diagnostics already in it\n",
    "\n",
    "`out_data` is pdfs or mles"
   ]
  },
  {
   "cell_type": "code",
   "execution_count": null,
   "metadata": {},
   "outputs": [],
   "source": [
    "out_data, the_fit = massmod.individual_profile_fits(in_data, calc_params)\n",
    "    # parallelization option in calc_params\n",
    "    # writes one file per halo"
   ]
  },
  {
   "cell_type": "markdown",
   "metadata": {},
   "source": [
    "Write out the individual profile fits as insurance against computational instability"
   ]
  },
  {
   "cell_type": "code",
   "execution_count": null,
   "metadata": {},
   "outputs": [],
   "source": [
    "massmod.write(directory_name)"
   ]
  },
  {
   "cell_type": "markdown",
   "metadata": {},
   "source": [
    "bin your clusters as you see fit and read in for one set of them, so imagine everything below here is in a loop or in parallel for many bins\n",
    "\n",
    "`bin_directory_name` would be bin-specific"
   ]
  },
  {
   "cell_type": "code",
   "execution_count": null,
   "metadata": {},
   "outputs": [],
   "source": [
    "massmod = clm.CLMassMod(model_info)"
   ]
  },
  {
   "cell_type": "markdown",
   "metadata": {},
   "source": [
    "Read in the individual profile fits, so this can be done totally independently"
   ]
  },
  {
   "cell_type": "code",
   "execution_count": null,
   "metadata": {},
   "outputs": [],
   "source": [
    "out_data = massmod.read(bin_directory_name)"
   ]
  },
  {
   "cell_type": "markdown",
   "metadata": {},
   "source": [
    "again, `calc_params` is a dict including the name of the fitting method and any tunable kw parameters it needs"
   ]
  },
  {
   "cell_type": "code",
   "execution_count": null,
   "metadata": {},
   "outputs": [],
   "source": [
    "clust_mass_dist = massmod.ensemble_fit(calc_params)"
   ]
  },
  {
   "cell_type": "markdown",
   "metadata": {},
   "source": [
    "`truth` is the masses from simulations"
   ]
  },
  {
   "cell_type": "code",
   "execution_count": null,
   "metadata": {},
   "outputs": [],
   "source": [
    "likelihoods, posteriors, mass_dist_bias_samps, mass_dist_scatter_samps = massmod.compare(truth)"
   ]
  },
  {
   "cell_type": "code",
   "execution_count": null,
   "metadata": {},
   "outputs": [],
   "source": []
  }
 ],
 "metadata": {
  "kernelspec": {
   "display_name": "Python 3 (not)",
   "language": "python",
   "name": "python3"
  },
  "language_info": {
   "codemirror_mode": {
    "name": "ipython",
    "version": 2
   },
   "file_extension": ".py",
   "mimetype": "text/x-python",
   "name": "python",
   "nbconvert_exporter": "python",
   "pygments_lexer": "ipython2",
   "version": "2.7.14"
  }
 },
 "nbformat": 4,
 "nbformat_minor": 2
}
