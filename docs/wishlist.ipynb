{
 "cells": [
  {
   "cell_type": "markdown",
   "metadata": {},
   "source": [
    "_Camille Avestruz (UChicago)_, _Alex Malz (NYU)_, _Tom McClintock (SBU)_ & Others\n",
    "\n",
    "This is a wishlist for how we'd like to use `clmassmod`.  We will refactor the code to make this notebook run!"
   ]
  },
  {
   "cell_type": "markdown",
   "metadata": {},
   "source": [
    "Our understanding of how folks currently use this code is based in part on the [Analytic Bias Estimate (ABE)](https://github.com/LSSTDESC/clmassmod/blob/master/notebooks/Analytic_bias_estimate.ipynb) and [Statistical Power Check (SPC)](https://github.com/LSSTDESC/clmassmod/blob/master/notebooks/Statistical%20Power%20Check.ipynb) demos.  There was a lot of other stuff here but we think it was more about simulating mock data, not the analysis pipeline we want to work on.  It can be found in commit `a103463`. "
   ]
  },
  {
   "cell_type": "code",
   "execution_count": null,
   "metadata": {},
   "outputs": [],
   "source": [
    "import clmassmod as clmm"
   ]
  },
  {
   "cell_type": "markdown",
   "metadata": {},
   "source": [
    "`model_info` would be a dict with the name of the model and its parameters to support comparison of models, read in from a config file by the user/script outside the CLMassMod object."
   ]
  },
  {
   "cell_type": "code",
   "execution_count": null,
   "metadata": {},
   "outputs": [],
   "source": [
    "massmod = clm.CLMassMod(model_info)"
   ]
  },
  {
   "cell_type": "markdown",
   "metadata": {},
   "source": [
    "A `CLMassMod` object should be able to perform fitting based on any combination of a variety of lensing observables, not just a mass map."
   ]
  },
  {
   "cell_type": "code",
   "execution_count": null,
   "metadata": {},
   "outputs": [],
   "source": [
    "massmod.obs_mass_map = in_data_mass_map\n",
    "massmod.obs_kappa_map = in_data_kappa_map\n",
    "massmod.obs_gamma_theta = in_data_gamma_theta\n",
    "massmod.obs_delta_sigma = in_data_delta_sigma"
   ]
  },
  {
   "cell_type": "markdown",
   "metadata": {},
   "source": [
    "The most basic functionality of `clmassmod` should be to fit cluster masses, saving data incrimentally as insurance against computational instability.\n",
    "\n",
    "`calc_method` is a string keyword for curvefit vs. pymc vs. whatever, could be parallelized\n",
    "\n",
    "`calc_params` is a dict of parameters necessary for the specified fitting method\n",
    "\n",
    "`save_loc` should be the path to which output is saved, one file per halo\n",
    "\n",
    "`fit_info` is the object produced by the fitter, like the pymc MC object, with properties like diagnostics already in it\n",
    "\n",
    "`out_data_profiles` is pdfs or mles over cluster mass and metadata, preferably as a set of (named) tuples"
   ]
  },
  {
   "cell_type": "code",
   "execution_count": null,
   "metadata": {},
   "outputs": [],
   "source": [
    "out_data_profiles, fit_info = massmod.fit_mass_profiles(calc_method, calc_params, save_loc)"
   ]
  },
  {
   "cell_type": "markdown",
   "metadata": {},
   "source": [
    "Progress should be saved incrimentally, but the user should also be able to save it manually."
   ]
  },
  {
   "cell_type": "code",
   "execution_count": null,
   "metadata": {},
   "outputs": [],
   "source": [
    "massmod.save_mass_profiles(user_func)"
   ]
  },
  {
   "cell_type": "markdown",
   "metadata": {},
   "source": [
    "If binning is desirable, the user should provide a scheme for assigning clusters to bins, which would be a function outside of `clmassmod`."
   ]
  },
  {
   "cell_type": "code",
   "execution_count": null,
   "metadata": {},
   "outputs": [],
   "source": [
    "bin_defs = np.linspace(bin_min, bin_max, n_bins)\n",
    "\n",
    "def bin_one(out_data_profile):\n",
    "# Consider a user-defined function that takes a mass profile and assigns a bin \n",
    "# based on a list or array containing bin endpoints.\n",
    "#     ...\n",
    "    return(bin_id)\n",
    "\n",
    "def bin_all(mass_profiles):\n",
    "# Consider a user-defined function that takes all the mass profiles provides a list of lists (one per bin) \n",
    "# of where they can be found based on their save locations\n",
    "#     ...\n",
    "    bin_member_locs = [] * len(bin_defs)\n",
    "    for one__profile in mass_profiles:\n",
    "        bin_id = bin_one(bin_defs, fluster_profile)\n",
    "        halo_loc = one__profile.loc\n",
    "        bin_members[bin_id].append(halo_loc)\n",
    "#     ...\n",
    "    return(bin_member_locs)\n",
    "\n",
    "bin_member_locs = bin_all(out_data_profiles)"
   ]
  },
  {
   "cell_type": "markdown",
   "metadata": {},
   "source": [
    "A `clmassmod` object could then be instantiated for each bin"
   ]
  },
  {
   "cell_type": "code",
   "execution_count": null,
   "metadata": {},
   "outputs": [],
   "source": [
    "bin_massmod = clm.CLMassMod(model_info)"
   ]
  },
  {
   "cell_type": "markdown",
   "metadata": {},
   "source": [
    "Read in the individual profile fits, so this can be done totally independently"
   ]
  },
  {
   "cell_type": "code",
   "execution_count": null,
   "metadata": {},
   "outputs": [],
   "source": [
    "bin_mass_profile_data = bin_massmod.read(bin_loc)"
   ]
  },
  {
   "cell_type": "markdown",
   "metadata": {},
   "source": [
    "Again, `calc_params` is a dict including the name of the fitting method and any tunable kw parameters it needs."
   ]
  },
  {
   "cell_type": "code",
   "execution_count": null,
   "metadata": {},
   "outputs": [],
   "source": [
    "clust_mass_dist = bin_massmod.ensemble_fit(calc_params)"
   ]
  },
  {
   "cell_type": "markdown",
   "metadata": {},
   "source": [
    "Now we can find the probability distribution over mass bias!\n",
    "\n",
    "`truth` is the masses from simulations in some as yet unspecified format"
   ]
  },
  {
   "cell_type": "code",
   "execution_count": null,
   "metadata": {},
   "outputs": [],
   "source": [
    "likelihoods, posteriors, mass_dist_bias_samps, mass_dist_scatter_samps = bin_massmod.compare(truth)"
   ]
  },
  {
   "cell_type": "code",
   "execution_count": null,
   "metadata": {},
   "outputs": [],
   "source": []
  }
 ],
 "metadata": {
  "kernelspec": {
   "display_name": "Python 3 (not)",
   "language": "python",
   "name": "python3"
  },
  "language_info": {
   "codemirror_mode": {
    "name": "ipython",
    "version": 2
   },
   "file_extension": ".py",
   "mimetype": "text/x-python",
   "name": "python",
   "nbconvert_exporter": "python",
   "pygments_lexer": "ipython2",
   "version": "2.7.14"
  }
 },
 "nbformat": 4,
 "nbformat_minor": 2
}
