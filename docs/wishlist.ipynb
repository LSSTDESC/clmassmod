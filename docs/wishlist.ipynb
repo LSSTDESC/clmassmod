{
 "cells": [
  {
   "cell_type": "markdown",
   "metadata": {},
   "source": [
    "_Camille Avestruz (UChicago)_, _Alex Malz (NYU)_, \\& Others"
   ]
  },
  {
   "cell_type": "markdown",
   "metadata": {},
   "source": [
    "Our understanding of how folks currently use this code is based on the [Analytic Bias Estimate (ABE)](https://github.com/LSSTDESC/clmassmod/blob/master/notebooks/Analytic_bias_estimate.ipynb) and [Statistical Power Check (SPC)](https://github.com/LSSTDESC/clmassmod/blob/master/notebooks/Statistical%20Power%20Check.ipynb) demos.\n",
    "\n",
    "This is a wishlist for how we'd like to use `clmassmod`.  We will refactor the code to make this notebook run!"
   ]
  },
  {
   "cell_type": "code",
   "execution_count": null,
   "metadata": {},
   "outputs": [],
   "source": [
    "import clmassmod as clmm"
   ]
  },
  {
   "cell_type": "markdown",
   "metadata": {},
   "source": [
    "Assumptions about different input model information are specified as properties of a `Prior` object.  Some of these are already objects: \n",
    "\n",
    "* a cosmology (`colossus.cosmology.cosmology`)\n",
    "* a shear profile model (`colossus.halo.profile_dk14` or `colossus.halo.profile_nfw`)\n",
    "* a mass-concentration relation model (`colossus.halo.concentration.concentration`)\n",
    "* center offset\n",
    "\n",
    "\n",
    "assumptions as separate objects with their own parameters\n",
    "* `m200`\n",
    "* `zcluster`\n",
    "* `radii` (radial range)\n",
    "* `zsource`\n",
    "\n",
    "Maybe we can use named tuples for these? or properties of Prior, so Prior.cosmology"
   ]
  },
  {
   "cell_type": "code",
   "execution_count": null,
   "metadata": {},
   "outputs": [],
   "source": [
    "assumption1 = \n",
    "assumption2 = "
   ]
  },
  {
   "cell_type": "code",
   "execution_count": null,
   "metadata": {},
   "outputs": [],
   "source": [
    "assumptions = clmm.Prior(assumption1, assumption2)"
   ]
  },
  {
   "cell_type": "markdown",
   "metadata": {},
   "source": [
    "Now we have enough information to make a `CLMassMod` object, the black box that will do all the work."
   ]
  },
  {
   "cell_type": "code",
   "execution_count": null,
   "metadata": {},
   "outputs": [],
   "source": [
    "massmod = CLMassMod(assumptions)"
   ]
  },
  {
   "cell_type": "markdown",
   "metadata": {},
   "source": [
    "Similarly, the data can be a `Data` object with certain properties.  In the previous version, these properties include:\n",
    "\n",
    "* `m200`\n",
    "* `zcluster`\n",
    "* `radii` (radial range)\n",
    "* `zsource`\n",
    "* field of view\n",
    "* noise properties\n",
    "\n",
    "galaxypicker?\n",
    "\n"
   ]
  },
  {
   "cell_type": "code",
   "execution_count": null,
   "metadata": {},
   "outputs": [],
   "source": [
    "dataproperty1 = \n",
    "dataproperty2 = "
   ]
  },
  {
   "cell_type": "code",
   "execution_count": null,
   "metadata": {},
   "outputs": [],
   "source": [
    "data = clmm.Data(dataproperty1, datproperty2)"
   ]
  },
  {
   "cell_type": "markdown",
   "metadata": {},
   "source": [
    "There are some functions that preprocess the data in various ways:\n",
    "\n",
    "* `colossus.halo.profile_dk14.surfaceDensity` or `colossus.halo.profile_nfw.surfaceDensity` operating on `radii`\n",
    "* `colossus.halo.profile_dk14..deltaSigma` or `colossus.halo.profile_nfw.deltaSigma` operating on `radii`\n",
    "\n",
    "These functions will be rolled into `clmm.CLMassMod.preprocess`"
   ]
  },
  {
   "cell_type": "code",
   "execution_count": null,
   "metadata": {},
   "outputs": [],
   "source": [
    "massmod.preprocess(data)"
   ]
  },
  {
   "cell_type": "code",
   "execution_count": null,
   "metadata": {},
   "outputs": [],
   "source": []
  },
  {
   "cell_type": "markdown",
   "metadata": {},
   "source": [
    "We want to perform operations with the `CLMassMod` object."
   ]
  },
  {
   "cell_type": "markdown",
   "metadata": {},
   "source": [
    "`model` is a keyword for the type of model (e.g. Diemer, NFW) taking `model_params` as a dict of parameters.\n",
    "\n",
    "* `model=stack`\n",
    "* `model=prob`\n",
    "\n",
    "`Fitter` class\n",
    "\n"
   ]
  },
  {
   "cell_type": "markdown",
   "metadata": {},
   "source": []
  },
  {
   "cell_type": "code",
   "execution_count": null,
   "metadata": {},
   "outputs": [],
   "source": [
    "bin_definitions = range(begin, end, number_of_bins)"
   ]
  },
  {
   "cell_type": "code",
   "execution_count": null,
   "metadata": {},
   "outputs": [],
   "source": [
    "bin_assignments, pdfs, mles = massmod.individual_profile_fits(model_name, in_data, calc_params, bin_definitions)\n",
    "    # parallelization option in calc_params\n",
    "    # writes one file per halo"
   ]
  },
  {
   "cell_type": "markdown",
   "metadata": {},
   "source": [
    "need a `massmod.read` and `massmod.write`"
   ]
  },
  {
   "cell_type": "code",
   "execution_count": null,
   "metadata": {},
   "outputs": [],
   "source": [
    " = massmod.ensemble_fit(bin_definitions, directory_name, method_name)\n",
    "    # does the sampling as method_name kw\n",
    "    # opens every file in directory"
   ]
  },
  {
   "cell_type": "code",
   "execution_count": null,
   "metadata": {},
   "outputs": [],
   "source": [
    "likelihoods, posteriors, mass_dist_bias_samps, mass_dist_scatter_samps = massmod.compare(truth)"
   ]
  },
  {
   "cell_type": "code",
   "execution_count": null,
   "metadata": {},
   "outputs": [],
   "source": []
  },
  {
   "cell_type": "markdown",
   "metadata": {},
   "source": []
  },
  {
   "cell_type": "markdown",
   "metadata": {},
   "source": []
  },
  {
   "cell_type": "markdown",
   "metadata": {},
   "source": []
  },
  {
   "cell_type": "code",
   "execution_count": null,
   "metadata": {},
   "outputs": [],
   "source": []
  },
  {
   "cell_type": "code",
   "execution_count": null,
   "metadata": {},
   "outputs": [],
   "source": [
    "massmod.sample(subset_of_data, parameter_to_sample, sampling_method, method_parameters)"
   ]
  },
  {
   "cell_type": "code",
   "execution_count": null,
   "metadata": {},
   "outputs": [],
   "source": [
    "fit_info = massmod.fit_shear(model_name, model_params)"
   ]
  },
  {
   "cell_type": "code",
   "execution_count": null,
   "metadata": {},
   "outputs": [],
   "source": [
    "massmod.plot_shear()"
   ]
  },
  {
   "cell_type": "code",
   "execution_count": null,
   "metadata": {},
   "outputs": [],
   "source": [
    "profiles = blackbox.fits()"
   ]
  },
  {
   "cell_type": "code",
   "execution_count": null,
   "metadata": {},
   "outputs": [],
   "source": [
    "inputs = profiles"
   ]
  },
  {
   "cell_type": "code",
   "execution_count": null,
   "metadata": {},
   "outputs": [],
   "source": [
    "truth = clmm.Truth(otherdata"
   ]
  },
  {
   "cell_type": "code",
   "execution_count": null,
   "metadata": {},
   "outputs": [],
   "source": [
    "bias_meas = blackbox.final(truth)"
   ]
  },
  {
   "cell_type": "code",
   "execution_count": null,
   "metadata": {},
   "outputs": [],
   "source": [
    "outputs = bias_meas"
   ]
  }
 ],
 "metadata": {
  "kernelspec": {
   "display_name": "Python 3 (not)",
   "language": "python",
   "name": "python3"
  },
  "language_info": {
   "codemirror_mode": {
    "name": "ipython",
    "version": 2
   },
   "file_extension": ".py",
   "mimetype": "text/x-python",
   "name": "python",
   "nbconvert_exporter": "python",
   "pygments_lexer": "ipython2",
   "version": "2.7.14"
  }
 },
 "nbformat": 4,
 "nbformat_minor": 2
}
